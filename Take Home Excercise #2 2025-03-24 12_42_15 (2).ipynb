{
 "cells": [
  {
   "cell_type": "code",
   "execution_count": 0,
   "metadata": {
    "application/vnd.databricks.v1+cell": {
     "cellMetadata": {
      "byteLimit": 2048000,
      "rowLimit": 10000
     },
     "inputWidgets": {},
     "nuid": "1eb3e510-a0c8-4f17-94b8-c8a8ae96223c",
     "showTitle": false,
     "tableResultSettingsMap": {},
     "title": ""
    }
   },
   "outputs": [],
   "source": [
    "# Author: Aria Narang\n",
    "# Date: March 26, 2025\n",
    "# Project: Applied Data Science Take Home Excercise #2\n",
    "# Datasets used: raw/pit_stops.csv, raw/drivers.csv, raw/results.csv, raw/races.csv, raw/status.csv, raw/qualifying.csv"
   ]
  },
  {
   "cell_type": "code",
   "execution_count": 0,
   "metadata": {
    "application/vnd.databricks.v1+cell": {
     "cellMetadata": {
      "byteLimit": 2048000,
      "rowLimit": 10000
     },
     "inputWidgets": {},
     "nuid": "5b9c5ffc-6ff5-4682-b38f-8fced05409e0",
     "showTitle": false,
     "tableResultSettingsMap": {},
     "title": ""
    }
   },
   "outputs": [],
   "source": [
    "# Import necessary PySpark SQL functions and Window functionality\n",
    "# - col: For column references and operations\n",
    "# - year, current_date: For date manipulations\n",
    "# - avg, min, max, count: Aggregate functions for statistical analysis\n",
    "# - when: For conditional logic (similar to IF-THEN-ELSE)\n",
    "# - rank, dense_rank: Window functions for ranking results\n",
    "# - Window: For defining partitioning and ordering in window operations\n",
    "from pyspark.sql.functions import col, year, current_date, avg, min, max, count, when, rank, dense_rank, lit, concat, datediff, substring, upper, stddev, sum\n",
    "from pyspark.sql.window import Window\n",
    "from pyspark.sql.types import IntegerType, DateType"
   ]
  },
  {
   "cell_type": "code",
   "execution_count": 0,
   "metadata": {
    "application/vnd.databricks.v1+cell": {
     "cellMetadata": {
      "byteLimit": 2048000,
      "rowLimit": 10000
     },
     "inputWidgets": {},
     "nuid": "3d11f374-5a79-4492-95a8-f940ab27bdc0",
     "showTitle": false,
     "tableResultSettingsMap": {},
     "title": ""
    }
   },
   "outputs": [],
   "source": [
    "#Read in the two datasets that are necesary for this take home assignment\n",
    "df_laptimes = spark.read.csv('s3://columbia-gr5069-main/raw/lap_times.csv', header=True)\n",
    "df_drivers = spark.read.csv('s3://columbia-gr5069-main/raw/drivers.csv', header=True)\n",
    "df_races = spark.read.csv('s3://columbia-gr5069-main/raw/races.csv', header=True)\n",
    "df_results = spark.read.csv('s3://columbia-gr5069-main/raw/results.csv', header=True)\n",
    "df_pit_stops = spark.read.csv('s3://columbia-gr5069-main/raw/pit_stops.csv', header=True)\n",
    "df_status = spark.read.csv('s3://columbia-gr5069-main/raw/status.csv', header=True)\n",
    "df_qualifying = spark.read.csv(\"s3://columbia-gr5069-main/raw/qualifying.csv\", header=True, inferSchema=True)\n",
    "\n"
   ]
  },
  {
   "cell_type": "code",
   "execution_count": 0,
   "metadata": {
    "application/vnd.databricks.v1+cell": {
     "cellMetadata": {
      "byteLimit": 2048000,
      "rowLimit": 10000
     },
     "inputWidgets": {},
     "nuid": "f74d9cea-6417-4739-9bef-8db02725ff3c",
     "showTitle": false,
     "tableResultSettingsMap": {},
     "title": ""
    }
   },
   "outputs": [
    {
     "output_type": "display_data",
     "data": {
      "text/html": [
       "<style scoped>\n",
       "  .table-result-container {\n",
       "    max-height: 300px;\n",
       "    overflow: auto;\n",
       "  }\n",
       "  table, th, td {\n",
       "    border: 1px solid black;\n",
       "    border-collapse: collapse;\n",
       "  }\n",
       "  th, td {\n",
       "    padding: 5px;\n",
       "  }\n",
       "  th {\n",
       "    text-align: left;\n",
       "  }\n",
       "</style><div class='table-result-container'><table class='table-result'><thead style='background-color: white'><tr><th>year</th><th>name</th><th>driver_name</th><th>avg_pit_time_seconds</th></tr></thead><tbody><tr><td>2011</td><td>Abu Dhabi Grand Prix</td><td>Pastor Maldonado</td><td>16.549</td></tr><tr><td>2011</td><td>Abu Dhabi Grand Prix</td><td>Bruno Senna</td><td>18.057</td></tr><tr><td>2011</td><td>Abu Dhabi Grand Prix</td><td>Lewis Hamilton</td><td>19.3945</td></tr><tr><td>2011</td><td>Abu Dhabi Grand Prix</td><td>Nico Rosberg</td><td>19.846</td></tr><tr><td>2011</td><td>Abu Dhabi Grand Prix</td><td>Michael Schumacher</td><td>20.149</td></tr></tbody></table></div>"
      ]
     },
     "metadata": {
      "application/vnd.databricks.v1+output": {
       "addedWidgets": {},
       "aggData": [],
       "aggError": "",
       "aggOverflow": false,
       "aggSchema": [],
       "aggSeriesLimitReached": false,
       "aggType": "",
       "arguments": {},
       "columnCustomDisplayInfos": {},
       "data": [
        [
         "2011",
         "Abu Dhabi Grand Prix",
         "Pastor Maldonado",
         16.549
        ],
        [
         "2011",
         "Abu Dhabi Grand Prix",
         "Bruno Senna",
         18.057
        ],
        [
         "2011",
         "Abu Dhabi Grand Prix",
         "Lewis Hamilton",
         19.3945
        ],
        [
         "2011",
         "Abu Dhabi Grand Prix",
         "Nico Rosberg",
         19.846
        ],
        [
         "2011",
         "Abu Dhabi Grand Prix",
         "Michael Schumacher",
         20.149
        ]
       ],
       "datasetInfos": [],
       "dbfsResultPath": null,
       "isJsonSchema": true,
       "metadata": {},
       "overflow": false,
       "plotOptions": {
        "customPlotOptions": {},
        "displayType": "table",
        "pivotAggregation": null,
        "pivotColumns": null,
        "xColumns": null,
        "yColumns": null
       },
       "removedWidgets": [],
       "schema": [
        {
         "metadata": "{}",
         "name": "year",
         "type": "\"string\""
        },
        {
         "metadata": "{}",
         "name": "name",
         "type": "\"string\""
        },
        {
         "metadata": "{}",
         "name": "driver_name",
         "type": "\"string\""
        },
        {
         "metadata": "{}",
         "name": "avg_pit_time_seconds",
         "type": "\"double\""
        }
       ],
       "type": "table"
      }
     },
     "output_type": "display_data"
    },
    {
     "output_type": "stream",
     "name": "stdout",
     "output_type": "stream",
     "text": [
      "Showing 5 of 4931 total records\n"
     ]
    }
   ],
   "source": [
    "#Question 1: What was the average time each driver spent at the pit stop for each race?\n",
    "\n",
    "# Calculate the average pit stop time per driver per race\n",
    "avg_pit_times = df_pit_stops.groupBy(\"raceId\", \"driverId\") \\\n",
    "                           .agg(avg(\"milliseconds\").alias(\"avg_pit_time_ms\")) \\\n",
    "                           .withColumn(\"avg_pit_time_seconds\", col(\"avg_pit_time_ms\") / 1000)\n",
    "\n",
    "# Join with driver names for better readability\n",
    "pit_stops_with_names = avg_pit_times.join(\n",
    "    df_drivers.select(\"driverId\", \"forename\", \"surname\"),\n",
    "    on=\"driverId\"\n",
    ").withColumn(\"driver_name\", concat(col(\"forename\"), lit(\" \"), col(\"surname\")))\n",
    "\n",
    "# Join with race names\n",
    "final_result = pit_stops_with_names.join(\n",
    "    df_races.select(\"raceId\", \"name\", \"year\"),\n",
    "    on=\"raceId\"\n",
    ")\n",
    "\n",
    "# Select and order the columns for display\n",
    "q1_result = final_result.select(\n",
    "    \"year\", \"name\", \"driver_name\", \"avg_pit_time_seconds\"\n",
    ").orderBy(\"year\", \"name\", \"avg_pit_time_seconds\")\n",
    "\n",
    "# Display sample of results\n",
    "display(q1_result.orderBy(\"year\", \"name\", \"avg_pit_time_seconds\").limit(5))\n",
    "print(\"Showing 5 of\", q1_result.count(), \"total records\")\n",
    "\n"
   ]
  },
  {
   "cell_type": "code",
   "execution_count": 0,
   "metadata": {
    "application/vnd.databricks.v1+cell": {
     "cellMetadata": {
      "byteLimit": 2048000,
      "rowLimit": 10000
     },
     "inputWidgets": {},
     "nuid": "399318d6-9978-4e3b-883e-e5c797b7af9e",
     "showTitle": false,
     "tableResultSettingsMap": {},
     "title": ""
    }
   },
   "outputs": [
    {
     "output_type": "display_data",
     "data": {
      "text/html": [
       "<style scoped>\n",
       "  .table-result-container {\n",
       "    max-height: 300px;\n",
       "    overflow: auto;\n",
       "  }\n",
       "  table, th, td {\n",
       "    border: 1px solid black;\n",
       "    border-collapse: collapse;\n",
       "  }\n",
       "  th, td {\n",
       "    padding: 5px;\n",
       "  }\n",
       "  th {\n",
       "    text-align: left;\n",
       "  }\n",
       "</style><div class='table-result-container'><table class='table-result'><thead style='background-color: white'><tr><th>year</th><th>name</th><th>driver_name</th><th>avg_pit_time_seconds</th><th>pit_time_rank</th><th>is_winner</th></tr></thead><tbody><tr><td>2020</td><td>70th Anniversary Grand Prix</td><td>Antonio Giovinazzi</td><td>27.7925</td><td>1</td><td></td></tr><tr><td>2020</td><td>70th Anniversary Grand Prix</td><td>Esteban Ocon</td><td>28.093</td><td>2</td><td></td></tr><tr><td>2020</td><td>70th Anniversary Grand Prix</td><td>Lance Stroll</td><td>28.1045</td><td>3</td><td></td></tr><tr><td>2020</td><td>70th Anniversary Grand Prix</td><td>Alexander Albon</td><td>28.1375</td><td>4</td><td></td></tr><tr><td>2020</td><td>70th Anniversary Grand Prix</td><td>Daniil Kvyat</td><td>28.2005</td><td>5</td><td></td></tr></tbody></table></div>"
      ]
     },
     "metadata": {
      "application/vnd.databricks.v1+output": {
       "addedWidgets": {},
       "aggData": [],
       "aggError": "",
       "aggOverflow": false,
       "aggSchema": [],
       "aggSeriesLimitReached": false,
       "aggType": "",
       "arguments": {},
       "columnCustomDisplayInfos": {},
       "data": [
        [
         "2020",
         "70th Anniversary Grand Prix",
         "Antonio Giovinazzi",
         27.7925,
         1,
         ""
        ],
        [
         "2020",
         "70th Anniversary Grand Prix",
         "Esteban Ocon",
         28.093,
         2,
         ""
        ],
        [
         "2020",
         "70th Anniversary Grand Prix",
         "Lance Stroll",
         28.1045,
         3,
         ""
        ],
        [
         "2020",
         "70th Anniversary Grand Prix",
         "Alexander Albon",
         28.1375,
         4,
         ""
        ],
        [
         "2020",
         "70th Anniversary Grand Prix",
         "Daniil Kvyat",
         28.2005,
         5,
         ""
        ]
       ],
       "datasetInfos": [],
       "dbfsResultPath": null,
       "isJsonSchema": true,
       "metadata": {},
       "overflow": false,
       "plotOptions": {
        "customPlotOptions": {},
        "displayType": "table",
        "pivotAggregation": null,
        "pivotColumns": null,
        "xColumns": null,
        "yColumns": null
       },
       "removedWidgets": [],
       "schema": [
        {
         "metadata": "{}",
         "name": "year",
         "type": "\"string\""
        },
        {
         "metadata": "{}",
         "name": "name",
         "type": "\"string\""
        },
        {
         "metadata": "{}",
         "name": "driver_name",
         "type": "\"string\""
        },
        {
         "metadata": "{}",
         "name": "avg_pit_time_seconds",
         "type": "\"double\""
        },
        {
         "metadata": "{}",
         "name": "pit_time_rank",
         "type": "\"integer\""
        },
        {
         "metadata": "{}",
         "name": "is_winner",
         "type": "\"string\""
        }
       ],
       "type": "table"
      }
     },
     "output_type": "display_data"
    },
    {
     "output_type": "stream",
     "name": "stdout",
     "output_type": "stream",
     "text": [
      "Showing 5 of 4931 total records\nNote: Drivers who didn't finish the race or didn't make pit stops are not included in this analysis.\n"
     ]
    }
   ],
   "source": [
    "# Question 2: Rank the average time spent at the pit stop in order of who won each race\n",
    "\n",
    "from pyspark.sql.functions import col, avg, concat, lit, rank\n",
    "from pyspark.sql.window import Window\n",
    "\n",
    "# Identify race winners (position = 1)\n",
    "race_winners = df_results.filter(col(\"position\") == 1) \\\n",
    "                        .select(\"raceId\", \"driverId\") \\\n",
    "                        .withColumnRenamed(\"driverId\", \"winner_id\")\n",
    "\n",
    "# Calculate average pit stop time for each driver in each race\n",
    "avg_pit_times = df_pit_stops.groupBy(\"raceId\", \"driverId\") \\\n",
    "                           .agg(avg(\"milliseconds\").alias(\"avg_pit_time_ms\")) \\\n",
    "                           .withColumn(\"avg_pit_time_seconds\", col(\"avg_pit_time_ms\") / 1000)\n",
    "\n",
    "# Join with race winners data\n",
    "pit_times_with_winners = avg_pit_times.join(race_winners, on=\"raceId\")\n",
    "\n",
    "# Join with driver information for names\n",
    "pit_times_with_names = pit_times_with_winners.join(\n",
    "    df_drivers.select(\"driverId\", \"forename\", \"surname\"),\n",
    "    on=\"driverId\"\n",
    ").withColumn(\"driver_name\", concat(col(\"forename\"), lit(\" \"), col(\"surname\")))\n",
    "\n",
    "# Create a window function to rank pit stop times within each race\n",
    "window_spec = Window.partitionBy(\"raceId\").orderBy(\"avg_pit_time_ms\")\n",
    "ranked_pit_times = pit_times_with_names.withColumn(\"pit_time_rank\", rank().over(window_spec))\n",
    "\n",
    "# Mark the race winner\n",
    "ranked_pit_times = ranked_pit_times.withColumn(\n",
    "    \"is_winner\", \n",
    "    when(col(\"driverId\") == col(\"winner_id\"), lit(\"Race Winner\")).otherwise(lit(\"\"))\n",
    ")\n",
    "\n",
    "# Join with race information\n",
    "final_result = ranked_pit_times.join(\n",
    "    df_races.select(\"raceId\", \"name\", \"year\"),\n",
    "    on=\"raceId\"\n",
    ")\n",
    "\n",
    "# Select and order columns for display\n",
    "q2_result = final_result.select(\n",
    "    \"year\", \n",
    "    \"name\", \n",
    "    \"driver_name\", \n",
    "    \"avg_pit_time_seconds\", \n",
    "    \"pit_time_rank\", \n",
    "    \"is_winner\"\n",
    ").orderBy(\"year\", \"name\", \"pit_time_rank\")\n",
    "\n",
    "# Display sample of results\n",
    "display(q2_result.orderBy(\"name\", \"pit_time_rank\").limit(5))\n",
    "print(\"Showing 5 of\", q2_result.count(), \"total records\")\n",
    "\n",
    "# Add a note about drivers who didn't finish or make pit stops\n",
    "print(\"Note: Drivers who didn't finish the race or didn't make pit stops are not included in this analysis.\")"
   ]
  },
  {
   "cell_type": "code",
   "execution_count": 0,
   "metadata": {
    "application/vnd.databricks.v1+cell": {
     "cellMetadata": {
      "byteLimit": 2048000,
      "rowLimit": 10000
     },
     "inputWidgets": {},
     "nuid": "9dfeb9bd-be93-417a-a08b-720fda015498",
     "showTitle": false,
     "tableResultSettingsMap": {},
     "title": ""
    }
   },
   "outputs": [
    {
     "output_type": "stream",
     "name": "stdout",
     "output_type": "stream",
     "text": [
      "Drivers with newly generated codes (sample):\n"
     ]
    },
    {
     "output_type": "display_data",
     "data": {
      "text/html": [
       "<style scoped>\n",
       "  .table-result-container {\n",
       "    max-height: 300px;\n",
       "    overflow: auto;\n",
       "  }\n",
       "  table, th, td {\n",
       "    border: 1px solid black;\n",
       "    border-collapse: collapse;\n",
       "  }\n",
       "  th, td {\n",
       "    padding: 5px;\n",
       "  }\n",
       "  th {\n",
       "    text-align: left;\n",
       "  }\n",
       "</style><div class='table-result-container'><table class='table-result'><thead style='background-color: white'><tr><th>driverId</th><th>forename</th><th>surname</th><th>code</th><th>generated_code</th></tr></thead><tbody><tr><td>100</td><td>Érik</td><td>Comas</td><td>\\N</td><td>COM</td></tr><tr><td>101</td><td>David</td><td>Brabham</td><td>\\N</td><td>BRA</td></tr><tr><td>102</td><td>Ayrton</td><td>Senna</td><td>\\N</td><td>SEN</td></tr><tr><td>103</td><td>Éric</td><td>Bernard</td><td>\\N</td><td>BER</td></tr><tr><td>104</td><td>Christian</td><td>Fittipaldi</td><td>\\N</td><td>FIT</td></tr></tbody></table></div>"
      ]
     },
     "metadata": {
      "application/vnd.databricks.v1+output": {
       "addedWidgets": {},
       "aggData": [],
       "aggError": "",
       "aggOverflow": false,
       "aggSchema": [],
       "aggSeriesLimitReached": false,
       "aggType": "",
       "arguments": {},
       "columnCustomDisplayInfos": {},
       "data": [
        [
         "100",
         "Érik",
         "Comas",
         "\\N",
         "COM"
        ],
        [
         "101",
         "David",
         "Brabham",
         "\\N",
         "BRA"
        ],
        [
         "102",
         "Ayrton",
         "Senna",
         "\\N",
         "SEN"
        ],
        [
         "103",
         "Éric",
         "Bernard",
         "\\N",
         "BER"
        ],
        [
         "104",
         "Christian",
         "Fittipaldi",
         "\\N",
         "FIT"
        ]
       ],
       "datasetInfos": [],
       "dbfsResultPath": null,
       "isJsonSchema": true,
       "metadata": {},
       "overflow": false,
       "plotOptions": {
        "customPlotOptions": {},
        "displayType": "table",
        "pivotAggregation": null,
        "pivotColumns": null,
        "xColumns": null,
        "yColumns": null
       },
       "removedWidgets": [],
       "schema": [
        {
         "metadata": "{}",
         "name": "driverId",
         "type": "\"string\""
        },
        {
         "metadata": "{}",
         "name": "forename",
         "type": "\"string\""
        },
        {
         "metadata": "{}",
         "name": "surname",
         "type": "\"string\""
        },
        {
         "metadata": "{}",
         "name": "code",
         "type": "\"string\""
        },
        {
         "metadata": "{}",
         "name": "generated_code",
         "type": "\"string\""
        }
       ],
       "type": "table"
      }
     },
     "output_type": "display_data"
    }
   ],
   "source": [
    "# Question 3: Insert the missing code (e.g: ALO for Alonso) for drivers based on the 'drivers' dataset\n",
    "\n",
    "from pyspark.sql.functions import col, upper, substring, when, lit\n",
    "\n",
    "# Check for drivers with missing codes \n",
    "missing_codes = df_drivers.filter(\n",
    "    (col(\"code\").isNull()) | \n",
    "    (col(\"code\") == \"\") | \n",
    "    (col(\"code\") == \"\\\\N\") |  # This might be how NULL is represented in your data\n",
    "    (col(\"code\") == \"N\")\n",
    ")\n",
    "\n",
    "# Generate three-letter codes for ALL drivers\n",
    "df_drivers_with_codes = df_drivers.withColumn(\n",
    "    \"generated_code\",\n",
    "    when((col(\"code\").isNull()) | (col(\"code\") == \"\") | (col(\"code\") == \"\\\\N\") | (col(\"code\") == \"N\"),\n",
    "         upper(substring(col(\"surname\"), 1, 3))\n",
    "    ).otherwise(col(\"code\"))\n",
    ")\n",
    "\n",
    "# Now let's specifically check which drivers got NEW codes\n",
    "drivers_with_new_codes = df_drivers_with_codes.filter(\n",
    "    col(\"code\") != col(\"generated_code\")\n",
    ")\n",
    "\n",
    "# Display sample of results\n",
    "print(\"Drivers with newly generated codes (sample):\")\n",
    "display(drivers_with_new_codes.select(\n",
    "    \"driverId\", \n",
    "    \"forename\", \n",
    "    \"surname\", \n",
    "    \"code\", \n",
    "    \"generated_code\"\n",
    ").orderBy(\"driverId\").limit(5))"
   ]
  },
  {
   "cell_type": "code",
   "execution_count": 0,
   "metadata": {
    "application/vnd.databricks.v1+cell": {
     "cellMetadata": {
      "byteLimit": 2048000,
      "rowLimit": 10000
     },
     "inputWidgets": {},
     "nuid": "a9bfaf40-7f81-48bf-b904-9555348f3bda",
     "showTitle": false,
     "tableResultSettingsMap": {},
     "title": ""
    }
   },
   "outputs": [
    {
     "output_type": "stream",
     "name": "stdout",
     "output_type": "stream",
     "text": [
      "Sample of races with youngest and oldest drivers:\n"
     ]
    },
    {
     "output_type": "display_data",
     "data": {
      "text/html": [
       "<style scoped>\n",
       "  .table-result-container {\n",
       "    max-height: 300px;\n",
       "    overflow: auto;\n",
       "  }\n",
       "  table, th, td {\n",
       "    border: 1px solid black;\n",
       "    border-collapse: collapse;\n",
       "  }\n",
       "  th, td {\n",
       "    padding: 5px;\n",
       "  }\n",
       "  th {\n",
       "    text-align: left;\n",
       "  }\n",
       "</style><div class='table-result-container'><table class='table-result'><thead style='background-color: white'><tr><th>year</th><th>name</th><th>youngest_driver</th><th>youngest_age</th><th>oldest_driver</th><th>oldest_age</th></tr></thead><tbody><tr><td>1950</td><td>Belgian Grand Prix</td><td>Geoff Crossley</td><td>29</td><td>Philippe Étancelin</td><td>53</td></tr><tr><td>1950</td><td>British Grand Prix</td><td>Geoff Crossley</td><td>29</td><td>Philippe Étancelin</td><td>53</td></tr><tr><td>1950</td><td>French Grand Prix</td><td>José Froilán González</td><td>27</td><td>Philippe Étancelin</td><td>53</td></tr><tr><td>1950</td><td>Indianapolis 500</td><td>Jimmy Davies</td><td>20</td><td>Mauri Rose</td><td>44</td></tr><tr><td>1950</td><td>Indianapolis 500</td><td>Troy Ruttman</td><td>20</td><td>Mauri Rose</td><td>44</td></tr></tbody></table></div>"
      ]
     },
     "metadata": {
      "application/vnd.databricks.v1+output": {
       "addedWidgets": {},
       "aggData": [],
       "aggError": "",
       "aggOverflow": false,
       "aggSchema": [],
       "aggSeriesLimitReached": false,
       "aggType": "",
       "arguments": {},
       "columnCustomDisplayInfos": {},
       "data": [
        [
         "1950",
         "Belgian Grand Prix",
         "Geoff Crossley",
         29,
         "Philippe Étancelin",
         53
        ],
        [
         "1950",
         "British Grand Prix",
         "Geoff Crossley",
         29,
         "Philippe Étancelin",
         53
        ],
        [
         "1950",
         "French Grand Prix",
         "José Froilán González",
         27,
         "Philippe Étancelin",
         53
        ],
        [
         "1950",
         "Indianapolis 500",
         "Jimmy Davies",
         20,
         "Mauri Rose",
         44
        ],
        [
         "1950",
         "Indianapolis 500",
         "Troy Ruttman",
         20,
         "Mauri Rose",
         44
        ]
       ],
       "datasetInfos": [],
       "dbfsResultPath": null,
       "isJsonSchema": true,
       "metadata": {},
       "overflow": false,
       "plotOptions": {
        "customPlotOptions": {},
        "displayType": "table",
        "pivotAggregation": null,
        "pivotColumns": null,
        "xColumns": null,
        "yColumns": null
       },
       "removedWidgets": [],
       "schema": [
        {
         "metadata": "{}",
         "name": "year",
         "type": "\"string\""
        },
        {
         "metadata": "{}",
         "name": "name",
         "type": "\"string\""
        },
        {
         "metadata": "{}",
         "name": "youngest_driver",
         "type": "\"string\""
        },
        {
         "metadata": "{}",
         "name": "youngest_age",
         "type": "\"integer\""
        },
        {
         "metadata": "{}",
         "name": "oldest_driver",
         "type": "\"string\""
        },
        {
         "metadata": "{}",
         "name": "oldest_age",
         "type": "\"integer\""
        }
       ],
       "type": "table"
      }
     },
     "output_type": "display_data"
    },
    {
     "output_type": "stream",
     "name": "stdout",
     "output_type": "stream",
     "text": [
      "Sample of all drivers with their 'Age' column:\n"
     ]
    },
    {
     "output_type": "display_data",
     "data": {
      "text/html": [
       "<style scoped>\n",
       "  .table-result-container {\n",
       "    max-height: 300px;\n",
       "    overflow: auto;\n",
       "  }\n",
       "  table, th, td {\n",
       "    border: 1px solid black;\n",
       "    border-collapse: collapse;\n",
       "  }\n",
       "  th, td {\n",
       "    padding: 5px;\n",
       "  }\n",
       "  th {\n",
       "    text-align: left;\n",
       "  }\n",
       "</style><div class='table-result-container'><table class='table-result'><thead style='background-color: white'><tr><th>name</th><th>year</th><th>driver_name</th><th>Age</th></tr></thead><tbody><tr><td>Belgian Grand Prix</td><td>1950</td><td>Alberto Ascari</td><td>31</td></tr><tr><td>Belgian Grand Prix</td><td>1950</td><td>Eugène Chaboud</td><td>43</td></tr><tr><td>Belgian Grand Prix</td><td>1950</td><td>Geoff Crossley</td><td>29</td></tr><tr><td>Belgian Grand Prix</td><td>1950</td><td>Johnny Claes</td><td>33</td></tr><tr><td>Belgian Grand Prix</td><td>1950</td><td>Juan Fangio</td><td>38</td></tr></tbody></table></div>"
      ]
     },
     "metadata": {
      "application/vnd.databricks.v1+output": {
       "addedWidgets": {},
       "aggData": [],
       "aggError": "",
       "aggOverflow": false,
       "aggSchema": [],
       "aggSeriesLimitReached": false,
       "aggType": "",
       "arguments": {},
       "columnCustomDisplayInfos": {},
       "data": [
        [
         "Belgian Grand Prix",
         "1950",
         "Alberto Ascari",
         31
        ],
        [
         "Belgian Grand Prix",
         "1950",
         "Eugène Chaboud",
         43
        ],
        [
         "Belgian Grand Prix",
         "1950",
         "Geoff Crossley",
         29
        ],
        [
         "Belgian Grand Prix",
         "1950",
         "Johnny Claes",
         33
        ],
        [
         "Belgian Grand Prix",
         "1950",
         "Juan Fangio",
         38
        ]
       ],
       "datasetInfos": [],
       "dbfsResultPath": null,
       "isJsonSchema": true,
       "metadata": {},
       "overflow": false,
       "plotOptions": {
        "customPlotOptions": {},
        "displayType": "table",
        "pivotAggregation": null,
        "pivotColumns": null,
        "xColumns": null,
        "yColumns": null
       },
       "removedWidgets": [],
       "schema": [
        {
         "metadata": "{}",
         "name": "name",
         "type": "\"string\""
        },
        {
         "metadata": "{}",
         "name": "year",
         "type": "\"string\""
        },
        {
         "metadata": "{}",
         "name": "driver_name",
         "type": "\"string\""
        },
        {
         "metadata": "{}",
         "name": "Age",
         "type": "\"integer\""
        }
       ],
       "type": "table"
      }
     },
     "output_type": "display_data"
    },
    {
     "output_type": "execute_result",
     "data": {
      "text/plain": [
       "'\\nAge Calculation Approach:\\n1. Created a new \"age_years\" column that calculates each driver\\'s age at the time of the race\\n2. Age is calculated by finding the difference between race date and birth date in days\\n3. Divided this difference by 365.25 to convert to years (accounting for leap years)\\n4. For each race, identified both the youngest and oldest driver\\n5. This approach gives an accurate age count based on how many birthdays each driver had experienced by race day\\n'"
      ]
     },
     "execution_count": 24,
     "metadata": {},
     "output_type": "execute_result"
    }
   ],
   "source": [
    "# Question 4: Who is the youngest and oldest driver for each race? Create a new column called “Age”\n",
    "\n",
    "from pyspark.sql.functions import col, datediff, year, lit, concat, rank\n",
    "from pyspark.sql.window import Window\n",
    "from pyspark.sql.types import IntegerType\n",
    "\n",
    "# First, get all driver-race combinations from results\n",
    "race_participants = df_results.select(\"raceId\", \"driverId\").distinct()\n",
    "\n",
    "# Get race dates from the races table\n",
    "race_dates = df_races.select(\"raceId\", \"date\", \"name\", \"year\")\n",
    "\n",
    "# Join races and drivers to calculate age at race time\n",
    "driver_ages = race_participants.join(race_dates, on=\"raceId\") \\\n",
    "                              .join(df_drivers.select(\"driverId\", \"dob\", \"forename\", \"surname\"), on=\"driverId\") \\\n",
    "                              .withColumn(\"race_date\", col(\"date\").cast(\"date\")) \\\n",
    "                              .withColumn(\"birth_date\", col(\"dob\").cast(\"date\")) \\\n",
    "                              .withColumn(\"age_years\", (datediff(col(\"race_date\"), col(\"birth_date\")) / 365.25).cast(IntegerType())) \\\n",
    "                              .withColumn(\"driver_name\", concat(col(\"forename\"), lit(\" \"), col(\"surname\")))\n",
    "\n",
    "# Define windows for finding youngest and oldest drivers per race\n",
    "window_youngest = Window.partitionBy(\"raceId\").orderBy(\"age_years\")\n",
    "window_oldest = Window.partitionBy(\"raceId\").orderBy(col(\"age_years\").desc())\n",
    "\n",
    "# Find youngest driver for each race\n",
    "youngest_drivers = driver_ages.withColumn(\"rank\", rank().over(window_youngest)) \\\n",
    "                             .filter(col(\"rank\") == 1) \\\n",
    "                             .select(\"raceId\", \"driver_name\", \"age_years\") \\\n",
    "                             .withColumnRenamed(\"driver_name\", \"youngest_driver\") \\\n",
    "                             .withColumnRenamed(\"age_years\", \"youngest_age\")\n",
    "\n",
    "# Find oldest driver for each race\n",
    "oldest_drivers = driver_ages.withColumn(\"rank\", rank().over(window_oldest)) \\\n",
    "                           .filter(col(\"rank\") == 1) \\\n",
    "                           .select(\"raceId\", \"driver_name\", \"age_years\") \\\n",
    "                           .withColumnRenamed(\"driver_name\", \"oldest_driver\") \\\n",
    "                           .withColumnRenamed(\"age_years\", \"oldest_age\")\n",
    "\n",
    "# Combine youngest and oldest driver information\n",
    "age_results = youngest_drivers.join(oldest_drivers, on=\"raceId\") \\\n",
    "                             .join(race_dates, on=\"raceId\") \\\n",
    "                             .select(\"year\", \"name\", \"youngest_driver\", \"youngest_age\", \"oldest_driver\", \"oldest_age\")\n",
    "\n",
    "# Display sample of results\n",
    "print(\"Sample of races with youngest and oldest drivers:\")\n",
    "display(age_results.orderBy(\"year\", \"name\").limit(5))\n",
    "\n",
    "# Display sample of results with age column\n",
    "print(\"Sample of all drivers with their 'Age' column:\")\n",
    "display(driver_ages.select(\"name\", \"year\", \"driver_name\", \"age_years\")\n",
    "       .withColumnRenamed(\"age_years\", \"Age\")  # Rename to match the requirement\n",
    "       .orderBy(\"year\", \"name\", \"driver_name\")\n",
    "       .limit(5))\n",
    "\n",
    "# Add explanation of the age calculation approach\n",
    "\"\"\"\n",
    "Age Calculation Approach:\n",
    "1. Created a new \"age_years\" column that calculates each driver's age at the time of the race\n",
    "2. Age is calculated by finding the difference between race date and birth date in days\n",
    "3. Divided this difference by 365.25 to convert to years (accounting for leap years)\n",
    "4. For each race, identified both the youngest and oldest driver\n",
    "5. This approach gives an accurate age count based on how many birthdays each driver had experienced by race day\n",
    "\"\"\""
   ]
  },
  {
   "cell_type": "code",
   "execution_count": 0,
   "metadata": {
    "application/vnd.databricks.v1+cell": {
     "cellMetadata": {
      "byteLimit": 2048000,
      "rowLimit": 10000
     },
     "inputWidgets": {},
     "nuid": "a8f1e0d9-be5d-4578-9dee-080791c1434e",
     "showTitle": false,
     "tableResultSettingsMap": {},
     "title": ""
    }
   },
   "outputs": [
    {
     "output_type": "stream",
     "name": "stdout",
     "output_type": "stream",
     "text": [
      "Top 10 most common nationalities among F1 drivers:\n"
     ]
    },
    {
     "output_type": "display_data",
     "data": {
      "text/html": [
       "<style scoped>\n",
       "  .table-result-container {\n",
       "    max-height: 300px;\n",
       "    overflow: auto;\n",
       "  }\n",
       "  table, th, td {\n",
       "    border: 1px solid black;\n",
       "    border-collapse: collapse;\n",
       "  }\n",
       "  th, td {\n",
       "    padding: 5px;\n",
       "  }\n",
       "  th {\n",
       "    text-align: left;\n",
       "  }\n",
       "</style><div class='table-result-container'><table class='table-result'><thead style='background-color: white'><tr><th>nationality</th><th>driver_count</th><th>percentage</th></tr></thead><tbody><tr><td>British</td><td>165</td><td>19.25</td></tr><tr><td>American</td><td>158</td><td>18.44</td></tr><tr><td>Italian</td><td>99</td><td>11.55</td></tr><tr><td>French</td><td>73</td><td>8.52</td></tr><tr><td>German</td><td>50</td><td>5.83</td></tr><tr><td>Brazilian</td><td>32</td><td>3.73</td></tr><tr><td>Argentine</td><td>24</td><td>2.80</td></tr><tr><td>Swiss</td><td>23</td><td>2.68</td></tr><tr><td>South African</td><td>23</td><td>2.68</td></tr><tr><td>Belgian</td><td>23</td><td>2.68</td></tr></tbody></table></div>"
      ]
     },
     "metadata": {
      "application/vnd.databricks.v1+output": {
       "addedWidgets": {},
       "aggData": [],
       "aggError": "",
       "aggOverflow": false,
       "aggSchema": [],
       "aggSeriesLimitReached": false,
       "aggType": "",
       "arguments": {},
       "columnCustomDisplayInfos": {},
       "data": [
        [
         "British",
         165,
         "19.25"
        ],
        [
         "American",
         158,
         "18.44"
        ],
        [
         "Italian",
         99,
         "11.55"
        ],
        [
         "French",
         73,
         "8.52"
        ],
        [
         "German",
         50,
         "5.83"
        ],
        [
         "Brazilian",
         32,
         "3.73"
        ],
        [
         "Argentine",
         24,
         "2.80"
        ],
        [
         "Swiss",
         23,
         "2.68"
        ],
        [
         "South African",
         23,
         "2.68"
        ],
        [
         "Belgian",
         23,
         "2.68"
        ]
       ],
       "datasetInfos": [],
       "dbfsResultPath": null,
       "isJsonSchema": true,
       "metadata": {},
       "overflow": false,
       "plotOptions": {
        "customPlotOptions": {},
        "displayType": "table",
        "pivotAggregation": null,
        "pivotColumns": null,
        "xColumns": null,
        "yColumns": null
       },
       "removedWidgets": [],
       "schema": [
        {
         "metadata": "{}",
         "name": "nationality",
         "type": "\"string\""
        },
        {
         "metadata": "{}",
         "name": "driver_count",
         "type": "\"long\""
        },
        {
         "metadata": "{}",
         "name": "percentage",
         "type": "\"decimal(5,2)\""
        }
       ],
       "type": "table"
      }
     },
     "output_type": "display_data"
    },
    {
     "output_type": "execute_result",
     "data": {
      "text/plain": [
       "'\\nNationality Analysis:\\nI analyzed which countries have produced the most Formula 1 drivers throughout history.\\nThis helps understand which nations have the strongest motorsport traditions and driver development programs.\\n'"
      ]
     },
     "execution_count": 25,
     "metadata": {},
     "output_type": "execute_result"
    }
   ],
   "source": [
    "# Question 6 (my own) : Which nationality is most common for the drivers? \n",
    "\n",
    "from pyspark.sql.functions import count, desc\n",
    "\n",
    "# Count the number of drivers by nationality\n",
    "nationality_counts = df_drivers.groupBy(\"nationality\") \\\n",
    "                             .agg(count(\"driverId\").alias(\"driver_count\"))\n",
    "\n",
    "# Calculate percentage of total for each nationality\n",
    "total_drivers = df_drivers.count()\n",
    "nationality_percentages = nationality_counts.withColumn(\n",
    "    \"percentage\", \n",
    "    (col(\"driver_count\") / total_drivers * 100).cast(\"decimal(5,2)\")\n",
    ")\n",
    "\n",
    "# Sort by count in descending order\n",
    "sorted_nationalities = nationality_percentages.orderBy(desc(\"driver_count\"))\n",
    "\n",
    "# Display sample of results\n",
    "print(\"Top 10 most common nationalities among F1 drivers:\")\n",
    "display(sorted_nationalities.select(\n",
    "    \"nationality\", \"driver_count\", \"percentage\"\n",
    ").limit(10))\n",
    "\n",
    "# Add explanation\n",
    "\"\"\"\n",
    "Nationality Analysis:\n",
    "I analyzed which countries have produced the most Formula 1 drivers throughout history.\n",
    "This helps understand which nations have the strongest motorsport traditions and driver development programs.\n",
    "\"\"\""
   ]
  }
 ],
 "metadata": {
  "application/vnd.databricks.v1+notebook": {
   "computePreferences": null,
   "dashboards": [],
   "environmentMetadata": {
    "base_environment": "",
    "environment_version": "2"
   },
   "language": "python",
   "notebookMetadata": {
    "pythonIndentUnit": 4
   },
   "notebookName": "Take Home Excercise #2 2025-03-24 12:42:15",
   "widgets": {}
  },
  "language_info": {
   "name": "python"
  }
 },
 "nbformat": 4,
 "nbformat_minor": 0
}